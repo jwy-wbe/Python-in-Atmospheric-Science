{
 "cells": [
  {
   "cell_type": "markdown",
   "metadata": {},
   "source": [
    "# An Introduction of Xarray in Atomspheric Sience"
   ]
  },
  {
   "cell_type": "markdown",
   "metadata": {},
   "source": [
    "The modules and Python version and the data used in this example are as follows:\n",
    "- **Python:** 3.8.8\n",
    "- **Matplotlib:** 3.5.0\n",
    "- **Xarray:** version:**0.20.1** can be installed via `conda` by typing `conda install -c conda-forge xarray dask netCDF4 bottleneck` in terminal.The website of Xarray is [here](http://xarray.pydata.org/en/stable/index.html)\n",
    "- **GPCP Data:** Global Precipitation Climatology Project monthly precipitation dataset from 1979-present combines observations and satellite precipitation data into 2.5°x2.5° global grids. It can be downloaded from [here](https://psl.noaa.gov/data/gridded/data.gpcp.html)"
   ]
  },
  {
   "cell_type": "code",
   "execution_count": null,
   "metadata": {},
   "outputs": [],
   "source": [
    "##Import the module and prepare the data\n",
    "import xarray as xr\n",
    "import matplotlib.pyplot as plt\n",
    "GPCP_path = 'precip.mon.mean.nc'"
   ]
  },
  {
   "cell_type": "markdown",
   "metadata": {},
   "source": [
    "## Read the GPCP data via Xarray\n",
    "The most common way to read the netcdf4 file is `xarray.open_dataset()` function.It is only require one parameter which is the path(Relative or Absolute) of the file.\n",
    "<br> We can view the content of the netcdf4 file simply by `print()`\n"
   ]
  },
  {
   "cell_type": "code",
   "execution_count": null,
   "metadata": {},
   "outputs": [],
   "source": [
    "data = xr.open_dataset(GPCP_path)\n",
    "print(data)"
   ]
  },
  {
   "cell_type": "markdown",
   "metadata": {},
   "source": [
    "We can select the specific time or area of data by using the method `sel(),isel()`. For example, The time span of GPCP file is from 1979-01 to 2021-06(monthly data),we can specify the time span by `sel()`,or we can selet the data in Northern Hemisphere etc...\n",
    "- `sel()`Return a new DataArray whose data is given by selecting index labels along the specified dimension(s).\n",
    "- `isel()`Return a new DataArray whose data is given by integer indexing along the specified dimensio(s)  \n"
   ]
  },
  {
   "cell_type": "code",
   "execution_count": null,
   "metadata": {},
   "outputs": [],
   "source": [
    "## read the data from 1979 to 1980\n",
    "xr.open_dataset(GPCP_path).sel(time = slice('1979','1980'))\n",
    "## read the first time in data\n",
    "xr.open_dataset(GPCP_path).isel(time = 0)\n",
    "## read the Northern Hemisphere only\n",
    "xr.open_dataset(GPCP_path).sel(lat = slice(0,90))"
   ]
  },
  {
   "cell_type": "markdown",
   "metadata": {},
   "source": [
    "In many cases, there are more than one variables in the nc(netcdf4) file, for example the GPCP data contains four variables: time_bnds, lat_bnds, lon_bnds and precip. We can select the variable by `.variable_name` or `['variable_name']`."
   ]
  },
  {
   "cell_type": "code",
   "execution_count": null,
   "metadata": {},
   "outputs": [],
   "source": [
    "#### select the precip \n",
    "data.precip # data['precip']"
   ]
  },
  {
   "cell_type": "markdown",
   "metadata": {},
   "source": [
    "## Calculation via Xarray\n",
    "The xarray provide a lot of calculation method including:`mean(),std(),var()`etc....., and there are some useful method like `groupby(),resample(),rollling()`etc... for us to conveniently calculate the Climatological Mean(Seasonal or Annual), Seasonal mean for each year,Anomoly, Sliding Average,etc...."
   ]
  },
  {
   "cell_type": "markdown",
   "metadata": {},
   "source": [
    "### 1) Climatological State\n",
    "By the way, you can view the data simply by `plot()` method."
   ]
  },
  {
   "cell_type": "code",
   "execution_count": null,
   "metadata": {},
   "outputs": [],
   "source": [
    "### Climatological State\n",
    "pre_cli = data.mean(dim = 'time')\n",
    "### Climatological Mean(Seasonal)\n",
    "pre_season = data.groupby('time.season').mean()\n",
    "print(pre_season.coords)\n",
    "### Visualize The JJA Mean\n",
    "pre_season.precip.sel(season = 'JJA').plot()"
   ]
  },
  {
   "cell_type": "markdown",
   "metadata": {},
   "source": [
    "### 2) Seasonal mean of each year\n",
    "Calculate the seasonal mean of each year. There are two methods:\n",
    "- **resample**\n",
    "- **groubpy**"
   ]
  },
  {
   "cell_type": "code",
   "execution_count": null,
   "metadata": {},
   "outputs": [],
   "source": [
    "### The first method (resample)\n",
    "cali_seasonal_mean = data.precip.sel(lat = slice(0,90)).resample(time='QS-DEC').mean(keep_attrs=True).mean(dim = [\"lon\",\"lat\"])\n",
    "colors = {3: \"grey\", 6: \"lightgreen\", 9: \"green\", 12: \"purple\"}\n",
    "seasons = {3: \"spring\", 6: \"summer\", 9: \"fall\", 12: \"winter\"}\n",
    "f, ax = plt.subplots()\n",
    "for month, arr in cali_seasonal_mean.groupby('time.month'):\n",
    "    arr.plot(ax=ax,color=\"grey\", marker=\"o\",markerfacecolor=colors[month],markeredgecolor=colors[month],label=seasons[month])\n",
    "ax.legend(bbox_to_anchor=(1.05, 1), loc='upper left')\n",
    "ax.set(title=\"Seasonal Change in Mean Precipitation Over Time\")\n",
    "plt.show()"
   ]
  },
  {
   "cell_type": "code",
   "execution_count": null,
   "metadata": {},
   "outputs": [],
   "source": [
    "### The Second method (groupby)\n",
    "f, ax = plt.subplots()\n",
    "for season in [\"JJA\",\"SON\",\"MAM\",\"DJF\"]:\n",
    "    cali_seasonal_mean = data.precip.sel(lat = slice(0,90)).groupby(\"time.season\")[season].groupby('time.year').mean().mean(dim = ['lon','lat'])\n",
    "    cali_seasonal_mean.plot(ax=ax,label=season)\n",
    "    print(cali_seasonal_mean.coords)\n",
    "ax.legend(bbox_to_anchor=(1.05, 1), loc='upper left')\n",
    "ax.set(title=\"Seasonal Change in Mean Precipitation of Northern Hemisphere Over Time\")"
   ]
  },
  {
   "cell_type": "markdown",
   "metadata": {},
   "source": [
    "### 3) Anomaly\n",
    "The anomaly is define as <font color='red'>$x^{\\prime} = x - \\bar{x}$</font>.For example: The anomaly for January 1979 is computed by subtracting the average data for all Januaries from the observed monthly data."
   ]
  },
  {
   "cell_type": "code",
   "execution_count": null,
   "metadata": {},
   "outputs": [],
   "source": [
    "### Calculate the Anomoly for each month\n",
    "pre_ano = (data.precip.groupby(\"time.month\") - data.precip.groupby(\"time.month\").mean())\n",
    "pre_ano.sel(lat = slice(0,90)).mean(dim = ['lat','lon']).plot()\n",
    "print(pre_ano.coords)"
   ]
  }
 ],
 "metadata": {
  "interpreter": {
   "hash": "b6a6c73a85c60e883f8d6ba001d443ea4fe9a33409958d221388181fa5f44bfa"
  },
  "kernelspec": {
   "display_name": "Python 3.8.8 64-bit ('lasg': conda)",
   "name": "python3"
  },
  "language_info": {
   "codemirror_mode": {
    "name": "ipython",
    "version": 3
   },
   "file_extension": ".py",
   "mimetype": "text/x-python",
   "name": "python",
   "nbconvert_exporter": "python",
   "pygments_lexer": "ipython3",
   "version": "3.8.8"
  },
  "orig_nbformat": 4
 },
 "nbformat": 4,
 "nbformat_minor": 2
}
