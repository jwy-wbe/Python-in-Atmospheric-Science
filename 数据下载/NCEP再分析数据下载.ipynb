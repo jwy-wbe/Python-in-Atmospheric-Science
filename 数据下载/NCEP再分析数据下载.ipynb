{
 "cells": [
  {
   "cell_type": "markdown",
   "metadata": {},
   "source": [
    "# NCEP再分析数据下载\n",
    "当我们需要下载`NCEP/NCAR Reanalysis`再分析数据时，通常会遇到这样的情况(这里是NCEP/NCAR Reanalysis再分析数据中的逐日气温数据)\n",
    "数据太多，一个一个点太麻烦，那么我们就可以使用python的 `ftplib`结合`tqdm`(进度条模块)下载NOAA FTP服务器上的数据。\n",
    "<div align=center>\n",
    "<img src=\"./NCAR Reanalysis.png\" width=500 height=320/>\n",
    "</div>  \n",
    "\n",
    "使用的数据来源和相关库的版本如下：\n",
    "- **python:** 3.8.8\n",
    "- **tqdm:** 4.60.0\n",
    "- **ftplib**"
   ]
  },
  {
   "cell_type": "markdown",
   "metadata": {},
   "source": [
    "## 引入相关模块"
   ]
  },
  {
   "cell_type": "code",
   "execution_count": 3,
   "metadata": {},
   "outputs": [],
   "source": [
    "### FTP 模块\n",
    "from ftplib import FTP\n",
    "### 进度条模块\n",
    "from tqdm import tqdm\n",
    "### 时间模块\n",
    "import time"
   ]
  },
  {
   "cell_type": "markdown",
   "metadata": {},
   "source": [
    "## 定义一些函数\n",
    "`FTP_connect`用来连接服务器。`callback_`为了写入数据时可视化进度条的函数。"
   ]
  },
  {
   "cell_type": "code",
   "execution_count": 4,
   "metadata": {},
   "outputs": [],
   "source": [
    "def FTP_connect(ftp_info):\n",
    "    try:\n",
    "        ### 链接\n",
    "        ftp = FTP(ftp_info['host'])\n",
    "        ### 登入\n",
    "        ftp.login(ftp_info['user'],ftp_info['passwd'])\n",
    "        print(f\"\\x1b[1;31m SUCCESSFULLY CONNECT:\\x1b[0m {ftp_info['host']}\")\n",
    "    except:\n",
    "        print(f\"\\x1b[1;31mERROR: cannot reach\\x1b[0m  {ftp_info['host']}\")\n",
    "    return ftp\n",
    "\n",
    "def callback_(data):\n",
    "    l = len(data)\n",
    "    pbar.update(l)\n",
    "    fd.write(data)"
   ]
  },
  {
   "cell_type": "markdown",
   "metadata": {},
   "source": [
    "## 下载实例\n",
    "下载`NCEP/NCAR Reanalysis`再分析数据中的2015～2020的逐日气温数据。下载的服务器地址和路径均可在官网上查询得到([网址](https://psl.noaa.gov/data/gridded/data.ncep.reanalysis.surface.html))。"
   ]
  },
  {
   "cell_type": "code",
   "execution_count": 5,
   "metadata": {},
   "outputs": [
    {
     "name": "stdout",
     "output_type": "stream",
     "text": [
      "\u001b[1;31m SUCCESSFULLY CONNECT:\u001b[0m ftp2.psl.noaa.gov\n",
      "\u001b[1;31m Begin to Download:\u001b[0m\n"
     ]
    },
    {
     "name": "stderr",
     "output_type": "stream",
     "text": [
      "\u001b[1;33m air.sig995.2015.nc Downloading\u001b[0m: 100%|\u001b[32m██████████████████████████\u001b[0m| 11.2M/11.2M [00:16<00:00, 688kk/s]\u001b[0m\n",
      "\u001b[1;33m air.sig995.2016.nc Downloading\u001b[0m: 100%|\u001b[32m█████████████████████████\u001b[0m| 11.2M/11.2M [00:08<00:00, 1.36Mk/s]\u001b[0m\n",
      "\u001b[1;33m air.sig995.2017.nc Downloading\u001b[0m: 100%|\u001b[32m██████████████████████████\u001b[0m| 11.2M/11.2M [00:19<00:00, 587kk/s]\u001b[0m\n",
      "\u001b[1;33m air.sig995.2018.nc Downloading\u001b[0m: 100%|\u001b[32m██████████████████████████\u001b[0m| 6.98M/6.98M [00:07<00:00, 962kk/s]\u001b[0m\n",
      "\u001b[1;33m air.sig995.2019.nc Downloading\u001b[0m: 100%|\u001b[32m█████████████████████████\u001b[0m| 6.94M/6.94M [00:06<00:00, 1.01Mk/s]\u001b[0m"
     ]
    },
    {
     "name": "stdout",
     "output_type": "stream",
     "text": [
      "\u001b[1;31m Total Time(H:M:S): 00:01:00 \n"
     ]
    },
    {
     "name": "stderr",
     "output_type": "stream",
     "text": [
      "\n"
     ]
    }
   ],
   "source": [
    "### 程序运行计时\n",
    "start = time.time()\n",
    "### noaa ftp info\n",
    "ftp_info = {\n",
    "    \"host\":'ftp2.psl.noaa.gov',\n",
    "    'user':'',\n",
    "    'passwd':'',\n",
    "}\n",
    "### 链接 noaa\n",
    "ftp = FTP_connect(ftp_info)\n",
    "### 进入数据目录\n",
    "ftp.cwd('/Datasets/ncep.reanalysis.dailyavgs/surface/')\n",
    "### 下载 2015到2022的Air temperature数据\n",
    "print(f\"\\x1b[1;31m Begin to Download:\\x1b[0m\")\n",
    "for year in range(2015,2020):\n",
    "    file_name = f'air.sig995.{year}.nc'\n",
    "    ### 本地数据路径\n",
    "    with open(file_name, 'wb') as fd:\n",
    "        total = ftp.size(file_name)\n",
    "        ### 进度条\n",
    "        with tqdm(total=total,ncols=100,desc=f'\\x1b[1;33m {file_name} Downloading\\x1b[0m',colour='green', unit='k', unit_scale=True) as pbar:\n",
    "            ### 服务器上下载数据\n",
    "            ftp.retrbinary(f'RETR {file_name}', callback_)\n",
    "end = time.time()\n",
    "print(f\"\\x1b[1;31m Total Time(H:M:S): {time.strftime('%H:%M:%S', time.gmtime(end - start))} \")"
   ]
  }
 ],
 "metadata": {
  "interpreter": {
   "hash": "65c9a384729946802994f50ed94601efc09843279dbe7be22e45386cbc72c8c6"
  },
  "kernelspec": {
   "display_name": "Python 3.8.8 64-bit ('lasg': conda)",
   "language": "python",
   "name": "python3"
  },
  "language_info": {
   "codemirror_mode": {
    "name": "ipython",
    "version": 3
   },
   "file_extension": ".py",
   "mimetype": "text/x-python",
   "name": "python",
   "nbconvert_exporter": "python",
   "pygments_lexer": "ipython3",
   "version": "3.8.8"
  },
  "orig_nbformat": 4
 },
 "nbformat": 4,
 "nbformat_minor": 2
}
