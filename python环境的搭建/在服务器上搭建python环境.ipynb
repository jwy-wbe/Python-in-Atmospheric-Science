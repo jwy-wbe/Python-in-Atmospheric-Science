{
 "cells": [
  {
   "cell_type": "markdown",
   "metadata": {},
   "source": [
    "# 在没有网络链接（外网）的服务器上配置Python环境"
   ]
  },
  {
   "cell_type": "markdown",
   "metadata": {},
   "source": [
    "## 1.安装Miniconda\n",
    "在本地下载好对应版本的Miniconda([下载网址](https://conda.io/en/latest/miniconda.html#linux-installers))，下载好后上传至服务器文件夹（这里我的文件是～/Software/miniconda）。然后执行以下命令\n",
    "<br/>`cd ～/Software/miniconda`\n",
    "<br/>`bash Miniconda3-latest-Linux-x86_64.sh`\n",
    "<br/>安装过程中，指定安装目录为：～/Software/python3.9"
   ]
  },
  {
   "cell_type": "markdown",
   "metadata": {},
   "source": [
    "## 2.在装好的python中配置新的环境（已有base环境）\n",
    "将需要配置的python版(可以是3.8,3.7等等)的下载好后传入服务器，一样按照1中的步骤安装，不过这次<font color= 'red'>要装在python安装路径下的envs路径下（如：～/Software/python3.9/envs/jwy）</font>envs后面跟着的即为新环境的名称。\n",
    "<br/>安装过程中，最后一步Do you wish the installer to initialize Miniconda3\n",
    "by running conda init? [yes|no]应该选择`no`\n",
    "<br/>安装好后，执行`conda activate jwy`命令,即可进入新的环境\n",
    "<br/>安装好后，执行`conda env list`命令,可以查看以安装好的环境"
   ]
  },
  {
   "cell_type": "markdown",
   "metadata": {},
   "source": [
    "## 3.在没有网络的情况下安装python第三方库\n",
    "- **Step1:** 在本地电脑上安装与服务器上相同的python(这里是`3.9.5`),例如可以用conda创建一个环境安装python(`3.9.5`):`conda create -n test python==3.9.5`\n",
    "- **Step2:** 进入test环境`conda activate test`,安装需要的python第三方库例如:`conda install xarray,netCDF4,numpy`等等\n",
    "- **Step3:** 将本地安装好的库,输出库的版本信息到一个txt文件夹中:`pip list --format=freeze > requirement.txt`,输出的txt如下图所示\n",
    "<div align=center>\n",
    "<img src=\"./txt.png\" width=218.5 height=355/>\n",
    "</div>\n",
    "\n",
    "- **Step4:** 下载需要库的包到指定文件夹中:`pip download -d /mnt/d/pkgs -r requirement.txt`,下载好后如下图所示\n",
    "<div align=center>\n",
    "<img src=\"./pkgs.png\" width=262 height=160/>\n",
    "</div>\n",
    "\n",
    "- **Step5:** 将下载好的文件和`requirement.txt`上传到服务器上,执行命令安装:`pip3 install --no-index --find-links=./pkgs -r ./pkgs/requirements.txt `"
   ]
  },
  {
   "cell_type": "markdown",
   "metadata": {},
   "source": [
    "# Conda 使用技巧\n",
    "## 1.清理缓存的库的压缩包\n",
    "执行`conda clean -t`命令,可以删除缓存在/Users/cosmos/opt/anaconda3/pkgs下的,下载好的包的压缩文件(详情可以参考https://docs.conda.io/projects/conda/en/latest/commands/clean.html)\n",
    "##"
   ]
  },
  {
   "cell_type": "markdown",
   "metadata": {},
   "source": [
    "# 参考网址\n",
    "- 1.[往不联网的服务器上安装python的第三方库模块](https://blog.csdn.net/ycy514070141/article/details/114966862)\n",
    "- 2.[Conda-Command reference](https://docs.conda.io/projects/conda/en/latest/commands.html)\n",
    "- 3.[在无网络服务器上安装python包](https://blog.csdn.net/u013760453/article/details/103421166)\n",
    "- 4.[无网络环境用pip安装python类包](https://www.cnblogs.com/noube/p/9070672.html)\n",
    "- 5.[pip freeze 导出含有本地路径](https://blog.csdn.net/qq_36078992/article/details/109435000)\n"
   ]
  }
 ],
 "metadata": {
  "language_info": {
   "name": "python"
  },
  "orig_nbformat": 4
 },
 "nbformat": 4,
 "nbformat_minor": 2
}
